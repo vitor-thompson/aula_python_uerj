{
  "nbformat": 4,
  "nbformat_minor": 0,
  "metadata": {
    "kernelspec": {
      "display_name": "Python 3",
      "language": "python",
      "name": "python3"
    },
    "language_info": {
      "codemirror_mode": {
        "name": "ipython",
        "version": 3
      },
      "file_extension": ".py",
      "mimetype": "text/x-python",
      "name": "python",
      "nbconvert_exporter": "python",
      "pygments_lexer": "ipython3",
      "version": "3.6.4"
    },
    "colab": {
      "provenance": [],
      "include_colab_link": true
    }
  },
  "cells": [
    {
      "cell_type": "markdown",
      "metadata": {
        "id": "view-in-github",
        "colab_type": "text"
      },
      "source": [
        "<a href=\"https://colab.research.google.com/github/vitor-thompson/aula_python_uerj/blob/main/C%C3%B3pia_de_aula7.2_iteracao.ipynb\" target=\"_parent\"><img src=\"https://colab.research.google.com/assets/colab-badge.svg\" alt=\"Open In Colab\"/></a>"
      ]
    },
    {
      "cell_type": "markdown",
      "metadata": {
        "id": "LxJx13pf01Au"
      },
      "source": [
        "# Iteração\n",
        "\n",
        "aula baseada no livro: http://openbookproject.net/thinkcs/python/english3e/iteration.html\n",
        "\n",
        "Os computadores costumam ser usados para automatizar tarefas repetitivas. Repetir tarefas idênticas ou similares sem cometer erros é algo que os computadores fazem bem e as pessoas fazem mal.\n",
        "\n",
        "A execução repetida de um conjunto de instruções é chamada de **iteração**.\n",
        "\n",
        "\n",
        "Já vimos a declaração ***for*** em aulas anteriores. Essa é a forma de iteração que você provavelmente usará com mais frequência.\n",
        "\n",
        "\n",
        "Mas neste capítulo, vamos ver a declaração ***while*** - outra maneira de fazer o seu programa fazer iteração, útil em circunstâncias ligeiramente diferentes.\n",
        "\n",
        "Antes de fazermos isso, vamos revisar algumas ideias ..."
      ]
    },
    {
      "cell_type": "markdown",
      "metadata": {
        "id": "7ylPALCo01Ax"
      },
      "source": [
        "## Declaração\n",
        "\n",
        "É possível fazer várias declarações da mesma variável:"
      ]
    },
    {
      "cell_type": "code",
      "metadata": {
        "id": "J6n04cPq01Az",
        "colab": {
          "base_uri": "https://localhost:8080/"
        },
        "outputId": "d2db821e-1c39-425b-fb7c-138c84514d9e"
      },
      "source": [
        "a = 15\n",
        "print(a)\n",
        "a = 17\n",
        "print(a)"
      ],
      "execution_count": null,
      "outputs": [
        {
          "output_type": "stream",
          "name": "stdout",
          "text": [
            "15\n",
            "17\n"
          ]
        }
      ]
    },
    {
      "cell_type": "markdown",
      "metadata": {
        "id": "RDn_rOUh01BC"
      },
      "source": [
        "Em Python, uma **instrução de atribuição** pode tornar duas variáveis iguais, mas como outras atribuições podem alterar uma delas, elas não precisam se manter iguais:"
      ]
    },
    {
      "cell_type": "code",
      "metadata": {
        "id": "k4ut_ihW01BD",
        "colab": {
          "base_uri": "https://localhost:8080/"
        },
        "outputId": "478b444e-bc5c-489a-a9d1-f883bf7966df"
      },
      "source": [
        "x = 5\n",
        "print(x)\n",
        "y = x\n",
        "print(y)\n",
        "y = 8\n",
        "print ('x: ', x, 'y: ', y)"
      ],
      "execution_count": null,
      "outputs": [
        {
          "output_type": "stream",
          "name": "stdout",
          "text": [
            "5\n",
            "5\n",
            "x:  5 y:  8\n"
          ]
        }
      ]
    },
    {
      "cell_type": "markdown",
      "metadata": {
        "id": "T38jdCGj01BK"
      },
      "source": [
        "## Atualizando variáveis\n",
        "\n",
        "Quando uma instrução de atribuição é executada, o interpretador de python segue os seguintes passos:\n",
        "* a expressão do lado direito (ou seja, a expressão que vem depois do token de atribuição ***=***) é avaliada primeiro. Isso produz um valor.\n",
        "* Em seguida, a atribuição é feita, de modo que a variável no lado esquerdo agora se refere ao novo valor.\n",
        "\n",
        "Uma das formas mais comuns de atribuição é uma **atualização**, em que **o novo valor da variável depende de seu valor antigo**."
      ]
    },
    {
      "cell_type": "code",
      "metadata": {
        "id": "rr1eEWJa01BM",
        "colab": {
          "base_uri": "https://localhost:8080/"
        },
        "outputId": "cd1a5eee-c0ce-428a-c73c-6e9f687f27cb"
      },
      "source": [
        "n = 5\n",
        "print(n)\n",
        "n = 3 * n + 1\n",
        "print(n)"
      ],
      "execution_count": null,
      "outputs": [
        {
          "output_type": "stream",
          "name": "stdout",
          "text": [
            "5\n",
            "16\n"
          ]
        }
      ]
    },
    {
      "cell_type": "markdown",
      "metadata": {
        "id": "7BPLVZsk01BR"
      },
      "source": [
        "### Inicialização\n",
        "\n",
        "É preciso inicializar uma variável antes de usá-la pela primeira vez:"
      ]
    },
    {
      "cell_type": "code",
      "metadata": {
        "id": "neMIP9tS01BS",
        "colab": {
          "base_uri": "https://localhost:8080/"
        },
        "outputId": "67e13be1-7839-4874-ccc3-61159c1ce952"
      },
      "source": [
        "w = t + 4\n",
        "print(w)"
      ],
      "execution_count": null,
      "outputs": [
        {
          "output_type": "stream",
          "name": "stdout",
          "text": [
            "12\n"
          ]
        }
      ]
    },
    {
      "cell_type": "code",
      "metadata": {
        "id": "szy6kaEI01Ba",
        "colab": {
          "base_uri": "https://localhost:8080/"
        },
        "outputId": "1c9e6146-9643-49c4-ad65-e2ab2bde0e4a"
      },
      "source": [
        "t = 8\n",
        "w = t + 4\n",
        "print(w)"
      ],
      "execution_count": null,
      "outputs": [
        {
          "output_type": "stream",
          "name": "stdout",
          "text": [
            "12\n"
          ]
        }
      ]
    },
    {
      "cell_type": "markdown",
      "metadata": {
        "id": "2fE60B-b01Bh"
      },
      "source": [
        "## O loop ***for*** revisitado\n",
        "\n",
        "Podemos atualizar uma variável dentro de um loop ***for***.\n",
        "\n",
        "Para tal, vamos escrever uma função que calcula a soma de todos os ítens de uma lista."
      ]
    },
    {
      "cell_type": "code",
      "metadata": {
        "id": "e2J35lKi01Bi",
        "colab": {
          "base_uri": "https://localhost:8080/"
        },
        "outputId": "d310f76b-7ea1-48a7-f79d-f10385dfcba7"
      },
      "source": [
        "def mysum(xs):\n",
        "    \"\"\" Soma todos os números em uma dada lista, e retorna o total. \"\"\"\n",
        "    total = 0                # inicialização da variável total\n",
        "    for x in xs:             # para cada item da lista xs\n",
        "        total += x    # somar o valor anterior ao item atual da lista: total = total + x\n",
        "    return total\n",
        "\n",
        "print(mysum([2,4,6,8]))\n",
        "\n",
        "assert mysum([2, 4, 6, 8])  # declaração para testar a validade das condições da função mysum. Veremos mais a seguir."
      ],
      "execution_count": null,
      "outputs": [
        {
          "output_type": "stream",
          "name": "stdout",
          "text": [
            "20\n"
          ]
        }
      ]
    },
    {
      "cell_type": "markdown",
      "metadata": {
        "id": "u3gslFCt01Bo"
      },
      "source": [
        "## A declaração ***while***"
      ]
    },
    {
      "cell_type": "code",
      "metadata": {
        "id": "rcUi3z1_01Bp",
        "colab": {
          "base_uri": "https://localhost:8080/"
        },
        "outputId": "bebd29ce-65cc-43d8-9d61-6d5320f0516c"
      },
      "source": [
        "def soma_ate(n):\n",
        "    \"\"\" Retorna a soma de 1+2+3 ... n \"\"\"\n",
        "    ss  = 0\n",
        "    v = 1\n",
        "    while v <= n:\n",
        "        ss = ss + v     # ss += v\n",
        "        print('ss = ', ss)\n",
        "        v = v + 1       # v +=1\n",
        "        print('v = ', v)\n",
        "    return ss\n",
        "\n",
        "print(soma_ate(8))"
      ],
      "execution_count": null,
      "outputs": [
        {
          "output_type": "stream",
          "name": "stdout",
          "text": [
            "ss =  1\n",
            "v =  2\n",
            "ss =  3\n",
            "v =  3\n",
            "ss =  6\n",
            "v =  4\n",
            "ss =  10\n",
            "v =  5\n",
            "ss =  15\n",
            "v =  6\n",
            "ss =  21\n",
            "v =  7\n",
            "ss =  28\n",
            "v =  8\n",
            "ss =  36\n",
            "v =  9\n",
            "36\n"
          ]
        }
      ]
    },
    {
      "cell_type": "markdown",
      "metadata": {
        "id": "ycoPzziV01Bu"
      },
      "source": [
        "Mais formalmente, aqui está o fluxo preciso de execução para uma declaração while:\n",
        "\n",
        "* Avalia a condição na linha 5 (`while v <= n:`), gerando um valor ***True*** ou ***False***.\n",
        "* Se o valor for ***False***, saia da instrução ***while*** e continue a execução na próxima instrução (linha 8 neste caso, `return ss`).\n",
        "* Se o valor for ***True***, execute cada uma das instruções no corpo (linhas 6 e 7) e, em seguida, volta para a instrução ***while*** na linha 5.\n",
        "\n",
        "\n",
        "**Atenção**\n",
        "O corpo do loop tem que mudar o valor de uma ou mais variáveis para assegurar que em algum momento a condição do loop será ***False***. Caso contrário, pode-se produzir um **loop infinito**."
      ]
    },
    {
      "cell_type": "markdown",
      "metadata": {
        "id": "D9Crw6hZ01Bx"
      },
      "source": [
        "## Escolhendo entre ***for*** e ***while***\n",
        "\n",
        "* Use um loop ***for*** se você souber, antes de iniciar o loop, o número máximo de vezes que precisará executar o corpo.\n",
        "   * **iteração definida**\n",
        "\n",
        "\n",
        "\n",
        "* Se você precisar repetir algum cálculo até que alguma condição seja atendida e não puder calcular antecipadamente quando (ou se) isso acontecer, você precisará de um loop ***while***.\n",
        "   * **iteração indefinida**\n",
        "\n"
      ]
    },
    {
      "cell_type": "markdown",
      "metadata": {
        "id": "01CDfUmz01By"
      },
      "source": [
        "## Contadores\n",
        "\n",
        "Para contar os digitos de um dado número ***n***, podemos escrever uma função:"
      ]
    },
    {
      "cell_type": "code",
      "metadata": {
        "id": "OCqc2oAg01By",
        "colab": {
          "base_uri": "https://localhost:8080/"
        },
        "outputId": "dffa6d2c-8b43-4802-a2b3-0ee7d4e01f1f"
      },
      "source": [
        "def counter(n):\n",
        "    count = 0\n",
        "    while n!= 0:            #(!=) significa diferença\n",
        "        count = count + 1\n",
        "        n = n // 10         # divisão de inteiros\n",
        "    return count\n",
        "\n",
        "counter(71000)"
      ],
      "execution_count": null,
      "outputs": [
        {
          "output_type": "execute_result",
          "data": {
            "text/plain": [
              "5"
            ]
          },
          "metadata": {},
          "execution_count": 18
        }
      ]
    },
    {
      "cell_type": "markdown",
      "metadata": {
        "id": "KeeOSk2h01B3"
      },
      "source": [
        "Esta função demonstra um importante padrão de computação chamado **contador**.\n",
        "\n",
        "* A contagem de variáveis é inicializada em 0 e, em seguida, incrementada toda vez que o corpo do loop é executado.\n",
        "* Quando o loop acaba, a variável ***count*** contém o resultado - o número total de vezes que o corpo do loop foi executado, que é o mesmo que o número de dígitos."
      ]
    },
    {
      "cell_type": "markdown",
      "metadata": {
        "id": "Yk1cT2-x01B5"
      },
      "source": [
        "Podemos testar a função com a declaração ***assert***:"
      ]
    },
    {
      "cell_type": "code",
      "metadata": {
        "id": "EFHCm6J901B6"
      },
      "source": [
        "assert counter(10002)"
      ],
      "execution_count": null,
      "outputs": []
    },
    {
      "cell_type": "code",
      "metadata": {
        "id": "Bic_9t5T01B_"
      },
      "source": [
        "assert counter(10)"
      ],
      "execution_count": null,
      "outputs": []
    },
    {
      "cell_type": "code",
      "metadata": {
        "id": "f8EO7BfTUWI4",
        "colab": {
          "base_uri": "https://localhost:8080/"
        },
        "outputId": "76323133-793a-45e4-b620-0e51e0797b33"
      },
      "source": [
        "counter(10)"
      ],
      "execution_count": null,
      "outputs": [
        {
          "output_type": "execute_result",
          "data": {
            "text/plain": [
              "2"
            ]
          },
          "metadata": {},
          "execution_count": 30
        }
      ]
    },
    {
      "cell_type": "markdown",
      "metadata": {
        "id": "8Qw-TlUc01CD"
      },
      "source": [
        "## Encapsulamento e generalização\n",
        "\n",
        "O **encapsulamento** é o processo de envolver uma parte do código em uma função, permitindo que você tire proveito de todas as vantagens das funções.\n",
        "\n",
        "\n",
        "**Generalização** significa tomar algo específico, como imprimir os múltiplos de 2 e torná-lo mais geral, como imprimir os múltiplos de qualquer inteiro."
      ]
    },
    {
      "cell_type": "markdown",
      "metadata": {
        "id": "jgjHlN7X01CF"
      },
      "source": [
        "## Variáveis locais\n",
        "\n",
        "Variáveis criadas dentro de uma definição de função são **locais**; não é possível acessar uma variável local de fora de sua função inicial.\n",
        "\n",
        "Isso significa que você está livre para ter múltiplas variáveis com o mesmo nome, desde que elas não estejam na mesma função.\n",
        "\n",
        "O Python examina todas as instruções em uma função - se alguma delas atribuir um valor a uma variável, essa é a pista que o Python usa para tornar a variável uma variável local.\n",
        "\n",
        "É comum e perfeitamente legal ter diferentes variáveis locais com o mesmo nome. Em particular, nomes como ***i*** e ***j*** são usados freqüentemente como variáveis de loop. Se você evitar usá-los em uma função só porque os usou em outro lugar, provavelmente tornará o programa mais difícil de ler."
      ]
    },
    {
      "cell_type": "markdown",
      "metadata": {
        "id": "EaB3z30B01CF"
      },
      "source": [
        "## A declaração ***break***\n",
        "\n",
        "A instrução break é usada para deixar imediatamente o corpo do loop. A próxima instrução a ser executada é a primeira após o corpo:"
      ]
    },
    {
      "cell_type": "code",
      "metadata": {
        "id": "AyK5u0ix01CH",
        "colab": {
          "base_uri": "https://localhost:8080/"
        },
        "outputId": "c79d95a4-a865-4504-f66b-317670a09733"
      },
      "source": [
        "for i in [12, 16, 17, 24, 29]:\n",
        "    if i % 2 == 1:  # If the number is odd\n",
        "       break        #  ... immediately exit the loop\n",
        "    print(i)\n",
        "print(\"done\")"
      ],
      "execution_count": null,
      "outputs": [
        {
          "output_type": "stream",
          "name": "stdout",
          "text": [
            "12\n",
            "16\n",
            "done\n",
            "0\n",
            "1\n"
          ]
        }
      ]
    },
    {
      "cell_type": "markdown",
      "metadata": {
        "id": "O0ZL9AdN01CL"
      },
      "source": [
        "## A declaração ***continue***\n",
        "\n",
        "Esta é uma instrução de fluxo de controle que faz com que o programa pule imediatamente o processamento do resto do corpo do loop, ***para a iteração atual***. Mas o loop ainda continua correndo pelas iterações restantes:"
      ]
    },
    {
      "cell_type": "code",
      "metadata": {
        "id": "qQAvjEWr01CM",
        "colab": {
          "base_uri": "https://localhost:8080/"
        },
        "outputId": "a18fbca9-b721-4b53-a3e2-0e1663284c9e"
      },
      "source": [
        "for i in [12, 16, 17, 24, 29, 30]:\n",
        "    if i % 2 == 1:      # If the number is odd\n",
        "       continue         # Don't process it\n",
        "    print(i)\n",
        "print(\"done\")"
      ],
      "execution_count": null,
      "outputs": [
        {
          "output_type": "stream",
          "name": "stdout",
          "text": [
            "12\n",
            "16\n",
            "24\n",
            "30\n",
            "done\n"
          ]
        }
      ]
    },
    {
      "cell_type": "markdown",
      "metadata": {
        "id": "_L86htJ301CQ"
      },
      "source": [
        "## Exercícios Parte 1\n",
        "\n",
        "1) A **conjectura de Collatz**, diz que \"Todos os inteiros positivos irão eventualmente convergir para 1 usando as regras do Collatz\". Faça um programa que ___verifique___ a conjectura de Collatz para alguns valores. As regras de Collatz são:\n",
        "\n",
        "Dado um número ***n***:\n",
        "   * se ***n*** for par, divida-o por ***2***;\n",
        "   * se ***n*** for ímpar, atualize-o para 3*n + 1;\n",
        "   * repetir até chegar ao valor 1.\n",
        "  \n",
        "  \n",
        "2) Modifique a função ```counter``` para contar o número de vezes que os dígitos 0 e 5 aparecem em um dado número n. Por exemplo, n = 10568, tem 2 dígitos 0 ou 5.\n",
        "\n",
        "3) Encapsule e generalize a seguinte declaração:\n",
        "\n",
        "\n",
        "\n",
        "```python\n",
        "for i in [12, 16, 17, 24, 29]:\n",
        "    if i % 2 == 1:  # If the number is odd\n",
        "       break        #  ... immediately exit the loop\n",
        "    print(i)\n",
        "print(\"done\")\n",
        "```\n",
        "\n"
      ]
    },
    {
      "cell_type": "code",
      "source": [
        "#exercicio1\n",
        "def collatz(n):\n",
        "    while n != 1:           # (!=) significa diferença\n",
        "        print(n, end=', ')  # (end=', ') faz com que a saída seja impressa na mesma linha, separada por vírgulas.\n",
        "        if n % 2 == 0:      # (%) calcula o resto\n",
        "            n = n // 2\n",
        "        else:\n",
        "            n = 3 * n + 1\n",
        "\n",
        "    print(n, end='.')\n",
        "\n",
        "collatz(5)"
      ],
      "metadata": {
        "colab": {
          "base_uri": "https://localhost:8080/"
        },
        "id": "lrY7RucFT3mm",
        "outputId": "1aab492b-1d15-4e54-b247-accd43a7cef0"
      },
      "execution_count": null,
      "outputs": [
        {
          "output_type": "stream",
          "name": "stdout",
          "text": [
            "5, 16, 8, 4, 2, 1."
          ]
        }
      ]
    },
    {
      "cell_type": "code",
      "source": [
        "#exercicio2\n",
        "def counter(n):\n",
        "    count = 0\n",
        "    count10 = 0\n",
        "    count5 = 0\n",
        "    while n != 0:            #(!=) significa diferença\n",
        "        if n % 10 == 0:     #(%) calcula o resto\n",
        "            count10 = count10 + 1\n",
        "\n",
        "        elif n % 10 == 5:\n",
        "            count5 = count5 + 1\n",
        "\n",
        "        count = count + 1\n",
        "        n = n // 10         # divisão de inteiros\n",
        "\n",
        "    print('O numero de zeros é:' , count10)\n",
        "    print('O numero de cincos é:' , count5)\n",
        "    print('O numero de digitos é:' , count)\n",
        "    return\n",
        "\n",
        "counter(105)"
      ],
      "metadata": {
        "colab": {
          "base_uri": "https://localhost:8080/"
        },
        "id": "SpBXh1UtUnad",
        "outputId": "7706b839-0e3b-40a1-9ae7-b749f8adb8aa"
      },
      "execution_count": null,
      "outputs": [
        {
          "output_type": "stream",
          "name": "stdout",
          "text": [
            "O numero de zeros é: 1\n",
            "O numero de cincos é: 1\n",
            "O numero de digitos é: 3\n"
          ]
        }
      ]
    },
    {
      "cell_type": "code",
      "source": [
        "#exercicio3\n",
        "def numero_par(n):\n",
        "    saida = [] # Inicializa uma lista para armazenar os números pares\n",
        "    for i in n:         # n só aceita lista\n",
        "        if i % 2 == 1:  # (%) calcula o resto\n",
        "            continue         #  a instrução continue é executada. Isso faz com que o loop pule imediatamente para a próxima iteração, ignorando qualquer código restante no corpo do loop para o número ímpar atual.\n",
        "        saida.append(i) # Adiciona o número par à lista , append() = é usado para adicionar um item ao final de uma lista existente.\n",
        "    print(','.join(map(str, saida)) + '.') # Junta os números da lista com vírgula e espaço e adiciona o ponto final , map(str, saida): Converte cada número na lista saida (que são inteiros) em sua representação de string; ','.join(...): Junta as strings resultantes com uma vírgula e um espaço entre elas; + '.': Adiciona um ponto final ao final da string resultante.\n",
        "\n",
        "numero_par([12, 16, 17, 24, 29])"
      ],
      "metadata": {
        "colab": {
          "base_uri": "https://localhost:8080/"
        },
        "id": "YhN7_ZA7XtiU",
        "outputId": "19e41492-78a6-4036-8950-f83c4612fc1e"
      },
      "execution_count": null,
      "outputs": [
        {
          "output_type": "stream",
          "name": "stdout",
          "text": [
            "12,16,24.\n"
          ]
        }
      ]
    },
    {
      "cell_type": "markdown",
      "metadata": {
        "id": "DlANgSf501CV"
      },
      "source": [
        "4) **O método de Newton para raiz quadrada**. Suponha que você queira calcular a raiz quadrada de ***n***. Se você começar com quase qualquer aproximação, poderá calcular uma aproximação melhor (mais próxima da resposta real) com a seguinte fórmula: melhor = (approx + n/approx)/2\n",
        "\n",
        "Usando um _loop_ e repetindo esta fórmula até que a melhor aproximação se aproxime o suficiente da anterior (este \"suficiente\" é arbitrario: podemos considerar uma diferença de 0,001), escreva uma função para calcular a raiz quadrada utilizando o método de Newton.\n",
        "\n",
        "Esse é um exemplo de repetição **indefinida**. Com qual tipo de loop você deve escrever o seu programa?"
      ]
    },
    {
      "cell_type": "code",
      "metadata": {
        "id": "B-buPJKe2mGy",
        "colab": {
          "base_uri": "https://localhost:8080/"
        },
        "outputId": "48683e2d-f481-4dac-e1ba-f934b901c1fa"
      },
      "source": [
        "#exercicio4\n",
        "import math\n",
        "def raiz_quadrada(n):\n",
        "    aproximacao = n/2\n",
        "    while True:                          # inicia um loop infinito que continuara executando o loop até que uma condição break ou return seja encontrada.\n",
        "\n",
        "        melhor = (aproximacao + n/aproximacao)/2\n",
        "\n",
        "        if abs(aproximacao - melhor) < 0.001:\n",
        "            return melhor                # se a resposta for true retonar melhor\n",
        "\n",
        "        aproximacao = melhor\n",
        "    return melhor\n",
        "\n",
        "print(raiz_quadrada(2))\n",
        "print(math.sqrt(2))"
      ],
      "execution_count": null,
      "outputs": [
        {
          "output_type": "stream",
          "name": "stdout",
          "text": [
            "1.4142135623746899\n",
            "1.4142135623730951\n"
          ]
        }
      ]
    },
    {
      "cell_type": "code",
      "source": [
        "# exercicio5\n",
        "#Você e seu amigo estão em uma equipe para escrever um jogo de dois jogadores.\n",
        "#humano contra o computador, como Tic-Tac-Toe / Noughts and Crosses.\n",
        "#Seu amigo vai escrever a lógica para jogar uma rodada do jogo, enquanto você vai Escreva a lógica\n",
        "#para permitir muitas rodadas de jogo, manter a pontuação, decidir quem Brincadeiras, em primeiro lugar, etc.\n",
        "# Os dois negociam sobre como as duas partes do O programa vai se encaixar, e você vem com este simples andaimes\n",
        "#(que seu amigo vai melhorar mais tarde):\n",
        "\n",
        "#a. Escreva o programa principal que repetidamente chama essa função para jogar o jogo, e depois de cada rodada anuncia\n",
        "#o resultado como “Eu ganho!”, “Você ganha!”, ou “Jogo sorteado!”. Então ele pergunta ao jogador “Você quer jogar de novo?”\n",
        "#e qualquer um joga de novo, ou diz “Adeus”, e termina.\n",
        "#b. Guarde a pontuação de quantas vitórias cada jogador teve, e quantos empates houve.\n",
        "#Após cada rodada de jogo, também anuncie os resultados.\n",
        "#Adicione a lógica para que os jogadores se revezem para jogar primeiro.\n",
        "#Calcule a porcentagem de vitórias para o humano, fora de todos os jogos jogados. Também anuncia isso No final de cada rodada.\n",
        "#Desenhe um fluxograma da sua lógica.\n",
        "\n",
        "\n",
        "# Your friend will complete this function\n",
        "def play_once(human_plays_first):\n",
        "    \"\"\"\n",
        "       Must play one round of the game. If the parameter\n",
        "       is True, the human gets to play first, else the\n",
        "       computer gets to play first.  When the round ends,\n",
        "       the return value of the function is one of\n",
        "       -1 (human wins),  0 (game drawn),   1 (computer wins).\n",
        "    \"\"\"\n",
        "    # This is all dummy scaffolding code right at the moment...\n",
        "    import random                  # See Modules chapter ...\n",
        "    rng = random.Random()\n",
        "    # Pick a random result between -1 and 1.\n",
        "    result = rng.randrange(-1,2)\n",
        "    print(\"Human plays first={0},  winner={1} \"\n",
        "                       .format(human_plays_first, result))\n",
        "    return result\n",
        "\n",
        "\n",
        "def play_game():\n",
        "  continuar_jogando = True\n",
        "  while continuar_jogando:\n",
        "    if play_once(human_plays_first=True) == -1:\n",
        "      human_wins += 1\n",
        "      print(\"Human wins: \", human_wins)\n",
        "    elif play_once(human_plays_first=False) == 1:\n",
        "      computer_wins += 1\n",
        "      print(\"Computer wins: \", computer_wins)\n",
        "    else :\n",
        "      draws += 1\n",
        "      print(\"Draws: \", draws)\n",
        "\n",
        "\n",
        "\n",
        "\n",
        "\n",
        "\n",
        "\n",
        "\n",
        "\n",
        "\n"
      ],
      "metadata": {
        "colab": {
          "base_uri": "https://localhost:8080/",
          "height": 176
        },
        "id": "3GMR9QZgkN9y",
        "outputId": "c17e66de-f849-4f6b-b21a-996511c4e246"
      },
      "execution_count": null,
      "outputs": [
        {
          "output_type": "error",
          "ename": "NameError",
          "evalue": "name 'vitor' is not defined",
          "traceback": [
            "\u001b[0;31m---------------------------------------------------------------------------\u001b[0m",
            "\u001b[0;31mNameError\u001b[0m                                 Traceback (most recent call last)",
            "\u001b[0;32m/tmp/ipython-input-2968172380.py\u001b[0m in \u001b[0;36m<cell line: 0>\u001b[0;34m()\u001b[0m\n\u001b[1;32m     33\u001b[0m \u001b[0;34m\u001b[0m\u001b[0m\n\u001b[1;32m     34\u001b[0m \u001b[0;34m\u001b[0m\u001b[0m\n\u001b[0;32m---> 35\u001b[0;31m \u001b[0mplay_once\u001b[0m\u001b[0;34m(\u001b[0m\u001b[0mvitor\u001b[0m\u001b[0;34m)\u001b[0m\u001b[0;34m\u001b[0m\u001b[0;34m\u001b[0m\u001b[0m\n\u001b[0m",
            "\u001b[0;31mNameError\u001b[0m: name 'vitor' is not defined"
          ]
        }
      ]
    },
    {
      "cell_type": "markdown",
      "metadata": {
        "id": "N2Ec9aeO01CV"
      },
      "source": [
        "# Debugar com print\n",
        "\n",
        "É de extrema importância saber prever possíveis bugs e quando encontrá-los, saber debugar. A primeira ferramenta é utilizando o print em pontos estratégicos do programa.\n",
        "\n",
        "Outra forma de debugar é usando a declaração built-in do Python, ***assert***.\n",
        "\n",
        "\n",
        "Consideramos a seguinte função, que calcula o valor absoluto de um número."
      ]
    },
    {
      "cell_type": "code",
      "metadata": {
        "id": "EeJI2PEG01CW",
        "colab": {
          "base_uri": "https://localhost:8080/"
        },
        "outputId": "cebb9229-d18e-409f-b01e-aa27eab36efe"
      },
      "source": [
        "def valor_modulo(x):\n",
        "    if (x < 0):\n",
        "        return -x\n",
        "    elif (x > 0):\n",
        "        return x\n",
        "\n",
        "print (valor_modulo(-88))\n",
        "\n",
        "print (valor_modulo(12))"
      ],
      "execution_count": null,
      "outputs": [
        {
          "output_type": "stream",
          "name": "stdout",
          "text": [
            "88\n",
            "12\n"
          ]
        }
      ]
    },
    {
      "cell_type": "markdown",
      "metadata": {
        "id": "g57JkpcxvFEm"
      },
      "source": [
        "# Iteração (continuação)\n",
        "\n",
        "Vimos até aqui:\n",
        "* Atualização de variável;\n",
        "* Loop `for`: iteração definida;\n",
        "* Loop `while`: iteração indefinida;\n",
        "* Declarações `break` e `continue`.\n",
        "\n",
        "Agora daremos continuade ao capítulo sobre iteração explorando:\n",
        "* Condicionais encadeadas;\n",
        "* Condicionais aninhadas;\n",
        "* Recursividade."
      ]
    },
    {
      "cell_type": "markdown",
      "metadata": {
        "id": "FgWCGjFutXk_"
      },
      "source": [
        "## Condicionais encadeadas\n",
        "\n",
        "Às vezes há mais de duas possibilidades e precisamos de mais de dois ramos. Uma maneira de expressar uma computação assim é uma condicional encadeada:"
      ]
    },
    {
      "cell_type": "code",
      "metadata": {
        "id": "HBQWvewotXlB"
      },
      "source": [
        "x = 20\n",
        "y = 20.0"
      ],
      "execution_count": null,
      "outputs": []
    },
    {
      "cell_type": "code",
      "metadata": {
        "id": "bsiD9gWPtXlG",
        "colab": {
          "base_uri": "https://localhost:8080/"
        },
        "outputId": "ab7c48fd-7d90-4303-85d1-9c7712e43f86"
      },
      "source": [
        "if x < y:\n",
        "    print('x é menor que y')\n",
        "elif x > y:\n",
        "    print('x é maior que y')\n",
        "else:\n",
        "    print('x e y são iguais')"
      ],
      "execution_count": null,
      "outputs": [
        {
          "output_type": "stream",
          "name": "stdout",
          "text": [
            "x e y são iguais\n"
          ]
        }
      ]
    },
    {
      "cell_type": "markdown",
      "metadata": {
        "id": "bYQdXIQntXlO"
      },
      "source": [
        "```elif``` é uma abreviação de “else if”. Mais uma vez, exatamente um ramo será executado. Não há limite no número de instruções ```elif```. Se houver uma cláusula else, ela precisa estar no final, mas não precisa haver uma obrigatoriamente. Por exemplo:\n",
        "\n",
        "\n",
        "\n",
        "```python\n",
        "if choice == 'a':\n",
        "    draw_a()\n",
        "elif choice == 'b':\n",
        "    draw_b()\n",
        "elif choice == 'c':\n",
        "    draw_c()\n",
        "```\n",
        "\n"
      ]
    },
    {
      "cell_type": "markdown",
      "metadata": {
        "id": "3sWUC6S1tXlS"
      },
      "source": [
        "Cada condição é verificada em ordem:\n",
        "   * Se o primeiro é falso, o próximo é verificado e assim por diante.\n",
        "   * Se uma delas for verdadeira, o ramo correspondente será executado e a instrução será finalizada.\n",
        "   * **Mesmo se mais de uma condição for verdadeira, somente a primeira ramificação verdadeira será executada.**"
      ]
    },
    {
      "cell_type": "markdown",
      "metadata": {
        "id": "wwDF9HtZtXlT"
      },
      "source": [
        "## Condicionais aninhadas\n",
        "Uma condicional também pode ser aninhada dentro de outra. Poderíamos ter escrito o exemplo na seção anterior desta forma:"
      ]
    },
    {
      "cell_type": "code",
      "metadata": {
        "id": "G1SbSFa2tXlT",
        "colab": {
          "base_uri": "https://localhost:8080/"
        },
        "outputId": "b189c5c7-c238-495c-9873-66c05ffa4222"
      },
      "source": [
        "x = 2\n",
        "y = 20\n",
        "if x == y:\n",
        "    print('x e y são iguais')\n",
        "else:\n",
        "    if x < y:\n",
        "        print('x é menor que y')\n",
        "    else:\n",
        "        print('x é maior que y')"
      ],
      "execution_count": null,
      "outputs": [
        {
          "output_type": "stream",
          "name": "stdout",
          "text": [
            "x é menor que y\n"
          ]
        }
      ]
    },
    {
      "cell_type": "markdown",
      "metadata": {
        "id": "IaE8JcIztXlX"
      },
      "source": [
        "* A condicional exterior contém dois ramos.\n",
        "* O primeiro ramo contém uma instrução simples.\n",
        "    * O segundo ramo contém outra instrução ```if```,\n",
        "       * que tem outros dois ramos próprios. Esses dois ramos são instruções simples, embora pudessem ser instruções condicionais também.\n",
        "\n",
        "Embora a endentação das instruções evidencie a estrutura das condicionais, condicionais aninhadas se tornam rapidamente  difíceis de ler. ***É uma boa ideia evitá-las quando for possível***.\n",
        "\n",
        "**Operadores lógicos** muitas vezes oferecem uma forma de **simplificar** instruções condicionais aninhadas. Por exemplo, podemos reescrever o seguinte código usando uma única condicional:"
      ]
    },
    {
      "cell_type": "code",
      "metadata": {
        "id": "TZjkQjmBtXlY",
        "colab": {
          "base_uri": "https://localhost:8080/"
        },
        "outputId": "d9b8101d-8281-43e0-9729-99e73321989b"
      },
      "source": [
        "x = 2\n",
        "if 0 < x:\n",
        "    if x < 10:\n",
        "        print('x is a positive single-digit number.')"
      ],
      "execution_count": null,
      "outputs": [
        {
          "output_type": "stream",
          "name": "stdout",
          "text": [
            "x is a positive single-digit number.\n"
          ]
        }
      ]
    },
    {
      "cell_type": "markdown",
      "metadata": {
        "id": "_vJ8EthLtXlb"
      },
      "source": [
        "A instrução ```print``` só é executada se a colocarmos depois de ambas as condicionais, então podemos obter o mesmo efeito com o operador ```and```:"
      ]
    },
    {
      "cell_type": "code",
      "metadata": {
        "id": "gaeRI2bKtXlc",
        "colab": {
          "base_uri": "https://localhost:8080/"
        },
        "outputId": "27d4dc91-bcc1-493d-97d9-e3c033aab5ac"
      },
      "source": [
        "x = 14\n",
        "if 0 < x and x < 10:\n",
        "    print('x is a positive single-digit number.')"
      ],
      "execution_count": null,
      "outputs": [
        {
          "output_type": "stream",
          "name": "stdout",
          "text": [
            "x is a positive single-digit number.\n"
          ]
        }
      ]
    },
    {
      "cell_type": "markdown",
      "metadata": {
        "id": "J3UE8UggtXlh"
      },
      "source": [
        "Para este tipo de condição, o Python oferece uma opção mais concisa:"
      ]
    },
    {
      "cell_type": "code",
      "metadata": {
        "id": "w5SDK7VftXli"
      },
      "source": [
        "x = 16\n",
        "if 0 < x < 10:\n",
        "    print('x is a positive single-digit number.')"
      ],
      "execution_count": null,
      "outputs": []
    },
    {
      "cell_type": "markdown",
      "metadata": {
        "id": "Tkn24MH2tXlm"
      },
      "source": [
        "## Recursividade\n",
        "É permitido para uma função chamar outra; e também é  permitido e legal para **uma função chamar a si própria**. Pode não ser óbvio por que isso é uma coisa boa, mas na verdade é uma das coisas mais \"mágicas\" que um programa pode fazer. Por exemplo, veja a seguinte função:"
      ]
    },
    {
      "cell_type": "code",
      "metadata": {
        "id": "F4dXm0VJtXln"
      },
      "source": [
        "def countdown(n):\n",
        "    if n <= 0:\n",
        "        print('DECOLAR PARA o ESPAÇO SIDERAL!!!!')\n",
        "    else:\n",
        "        print(n)\n",
        "        countdown(n-1)"
      ],
      "execution_count": null,
      "outputs": []
    },
    {
      "cell_type": "markdown",
      "metadata": {
        "id": "wuYq3s5etXlq"
      },
      "source": [
        "Se n for 0 ou negativo, a frase \"DECOLAR PARA o ESPAÇO SIDERAL!!!!\" é exibida. Senão, imprime o valor de ```n``` e então a função countdown é chamada novamente – por si mesma – passando o valor ```n-1``` como argumento.\n",
        "\n",
        "O que acontece se chamarmos esta função assim?"
      ]
    },
    {
      "cell_type": "code",
      "metadata": {
        "id": "VcCNlSkttXlq",
        "colab": {
          "base_uri": "https://localhost:8080/"
        },
        "outputId": "98f6a406-d45b-4531-8efb-62c6ae11ea23"
      },
      "source": [
        "countdown(3)"
      ],
      "execution_count": null,
      "outputs": [
        {
          "output_type": "stream",
          "name": "stdout",
          "text": [
            "3\n",
            "2\n",
            "1\n",
            "DECOLAR PARA o ESPAÇO SIDERAL!!!!\n"
          ]
        }
      ]
    },
    {
      "cell_type": "markdown",
      "metadata": {
        "id": "HG8X1A0QtXlu"
      },
      "source": [
        "A execução de countdown inicia com n=3 e como n é maior que 0, ela produz o valor 3 e então chama a si mesma…\n",
        "\n",
        "   * A execução de countdown inicia com n=2 e como n é maior que 0, ela produz o  valor 2 e então chama a si mesma…\n",
        "\n",
        "      * A execução de countdown inicia com n=1 e como n é maior que 0, ela produz o valor 1 e então chama a si mesma…\n",
        "\n",
        "         * A execução de countdown inicia com n=0 e como n não é maior que 0, ela produz a frase “DECOLAR PARA o ESPAÇO SIDERAL!!!!” e então retorna.\n",
        "\n",
        "         * O countdown que recebeu n=1 retorna.\n",
        "\n",
        "      * O countdown que recebeu n=2 retorna.\n",
        "\n",
        "   * O countdown que recebeu n=3 retorna.\n",
        "\n",
        "E então você está de volta ao ```__main__```."
      ]
    },
    {
      "cell_type": "markdown",
      "metadata": {
        "id": "Ib1yrnGttXlv"
      },
      "source": [
        "Uma função que chama a si mesma é dita recursiva; o processo para executá-la é a recursividade.\n",
        "\n",
        "Como em outro exemplo, podemos escrever uma função que imprima uma string ```s```  n vezes:"
      ]
    },
    {
      "cell_type": "code",
      "metadata": {
        "id": "hMVkevHztXlw"
      },
      "source": [
        "def print_n(s, n):\n",
        "    if n <= 0:\n",
        "        return\n",
        "    print(s)\n",
        "    print_n(s, n-1)"
      ],
      "execution_count": null,
      "outputs": []
    },
    {
      "cell_type": "code",
      "metadata": {
        "id": "Z0gNqXIutXlz",
        "colab": {
          "base_uri": "https://localhost:8080/"
        },
        "outputId": "45292db8-3caf-4316-91c4-0aab9dbd5bb4"
      },
      "source": [
        "print_n(\"Olá\", 9)"
      ],
      "execution_count": null,
      "outputs": [
        {
          "output_type": "stream",
          "name": "stdout",
          "text": [
            "Olá\n",
            "Olá\n",
            "Olá\n",
            "Olá\n",
            "Olá\n",
            "Olá\n",
            "Olá\n",
            "Olá\n",
            "Olá\n"
          ]
        }
      ]
    },
    {
      "cell_type": "markdown",
      "metadata": {
        "id": "-zAlm_O1tXl3"
      },
      "source": [
        "Se n <= 0 a instrução ```return``` causa a saída da função. O fluxo de execução volta imediatamente a quem fez a chamada, e as linhas restantes da função não são executadas.\n",
        "\n",
        "O resto da função é similar ao ```countdown```: ela imprime o string ```s``` e então chama a si mesma para imprimir ```s``` mais n-1 vezes. Então o número de linhas da saída é 1 + (n - 1), até chegar a n.\n",
        "\n",
        "Para exemplos simples como esse, provavelmente seria mais fácil usar um _loop_ ```for```. Mais adiante veremos exemplos que são difíceis de escrever com um loop ```for`` e fáceis de escrever com recursividade, então é bom começar cedo."
      ]
    },
    {
      "cell_type": "markdown",
      "metadata": {
        "id": "ukcGc6MUtXl4"
      },
      "source": [
        "## Exercícios Parte 2\n",
        "https://penseallen.github.io/PensePython2e/05-cond-recur.html\n",
        "\n",
        "1) O módulo time fornece uma função, também chamada time, que devolve a Hora Média de Greenwich na “época”, que é um momento arbitrário usado como ponto de referência. Em sistemas UNIX, a época é primeiro de janeiro de 1970."
      ]
    },
    {
      "cell_type": "code",
      "metadata": {
        "id": "_vNAy-wRtXl5",
        "colab": {
          "base_uri": "https://localhost:8080/"
        },
        "outputId": "4c647977-3900-466f-81fe-a2f339c169f2"
      },
      "source": [
        "import time\n",
        "time.time()\n",
        "\n"
      ],
      "execution_count": null,
      "outputs": [
        {
          "output_type": "execute_result",
          "data": {
            "text/plain": [
              "1758731844.6964903"
            ]
          },
          "metadata": {},
          "execution_count": 35
        }
      ]
    },
    {
      "cell_type": "markdown",
      "metadata": {
        "id": "6PCPU7YnCYZV"
      },
      "source": [
        "Escreva um script que leia a hora atual e a converta em um tempo em horas, minutos e segundos, mais o número de dias desde a época."
      ]
    },
    {
      "cell_type": "code",
      "source": [
        "import time\n",
        "\n",
        "tempo_atual_segundos = time.time()\n",
        "\n",
        "segundos_por_dia = 24 * 60 * 60\n",
        "dias = tempo_atual_segundos // segundos_por_dia\n",
        "print ('dias:' ,dias)\n",
        "\n",
        "segundos_restantes_no_dia = tempo_atual_segundos % segundos_por_dia\n",
        "\n",
        "horas = segundos_restantes_no_dia // (60 * 60)\n",
        "print ('horas:' ,horas)\n",
        "\n",
        "segundos_restantes_apos_horas = segundos_restantes_no_dia % (60 * 60)\n",
        "minutos = segundos_restantes_apos_horas // 60\n",
        "print ('minutos:' ,minutos)\n",
        "\n",
        "segundos = segundos_restantes_apos_horas % 60\n",
        "print ('segundos:' ,segundos)\n"
      ],
      "metadata": {
        "colab": {
          "base_uri": "https://localhost:8080/"
        },
        "id": "elXqR-TMhKEH",
        "outputId": "ecb40326-ce60-4289-9b62-ebe9bf3c679b"
      },
      "execution_count": null,
      "outputs": [
        {
          "output_type": "stream",
          "name": "stdout",
          "text": [
            "dias: 20355.0\n",
            "horas: 16.0\n",
            "minutos: 48.0\n",
            "segundos: 26.876922130584717\n"
          ]
        }
      ]
    },
    {
      "cell_type": "markdown",
      "metadata": {
        "id": "0GPsuxs0CZ2f"
      },
      "source": [
        "2) O último teorema de Fermat diz que não existem números inteiros a, b e c tais que `a**n + b**n == c**n` para quaisquer valores de n maiores que 2.\n",
        "   1. Escreva uma função chamada `check_fermat` que receba quatro parâmetros – a, b, c e n – e verifique se o teorema de Fermat se mantém. Se n for maior que 2 e `a**n + b**n == c**n` o programa deve imprimir, “Holy smokes, Fermat was wrong!” Senão o programa deve exibir “No, that doesn’t work.”\n",
        "\n",
        "   1. Escreva uma função que peça ao usuário para digitar valores para a, b, c e n, os converta em números inteiros e use `check_fermat` para verificar se violam o teorema de Fermat."
      ]
    },
    {
      "cell_type": "code",
      "source": [
        "a = int(input(\"Digite o valor de a: \"))\n",
        "b = int(input(\"Digite o valor de b: \"))\n",
        "c = int(input(\"Digite o valor de c: \"))\n",
        "n = int(input(\"Digite o valor de n: \"))\n",
        "\n",
        "def check_fermat(a, b, c, n):\n",
        " if n > 2 and (a**n + b**n == c**n):\n",
        "  print(\"Holy smokes, Fermat was wrong!\")\n",
        " else:\n",
        "  print(\"No, that doesn’t work.\")\n",
        "\n",
        "check_fermat(a, b, c, n)"
      ],
      "metadata": {
        "colab": {
          "base_uri": "https://localhost:8080/"
        },
        "id": "Zi_bbf9QimSQ",
        "outputId": "af143750-ee1e-4634-f06b-cd2422fd6189"
      },
      "execution_count": null,
      "outputs": [
        {
          "output_type": "stream",
          "name": "stdout",
          "text": [
            "Digite o valor de a: 3\n",
            "Digite o valor de b: 4\n",
            "Digite o valor de c: 5\n",
            "Digite o valor de n: 2\n",
            "No, that doesn’t work.\n"
          ]
        }
      ]
    },
    {
      "cell_type": "markdown",
      "metadata": {
        "id": "Ccx6RkOjCoG0"
      },
      "source": [
        "3) Há um teste simples para ver se é possível formar um triângulo para quaisquer três comprimentos: Se algum dos três comprimentos for maior que a soma dos outros dois, então você não pode formar um triângulo. Senão, você pode. (Se a soma de dois comprimentos igualar o terceiro, eles formam um triângulo chamado “degenerado”.)\n",
        "   1. Escreva uma função chamada `is_triangle` que receba três números inteiros como argumentos, e que imprima “Yes” ou “No”, dependendo da possibilidade de formar ou não um triângulo de gravetos com os comprimentos dados.\n",
        "   1. Escreva uma função que peça ao usuário para digitar três comprimentos de gravetos, os converta em números inteiros e use `is_triangle` para verificar se os gravetos com os comprimentos dados podem formar um triângulo."
      ]
    },
    {
      "cell_type": "code",
      "source": [
        "a = input('digite o valor de a: ')\n",
        "b = input('digite o valor de b: ')\n",
        "c = input('digite o valor de c: ')\n",
        "\n",
        "def is_triangle(a, b, c):\n",
        "    if a > b + c and b > a + c and c > a + b:\n",
        "      print('Yes')\n",
        "    else:\n",
        "      print('No')\n",
        "\n",
        "is_triangle(a, b, c)"
      ],
      "metadata": {
        "colab": {
          "base_uri": "https://localhost:8080/"
        },
        "id": "UEQKjJxVjvJ4",
        "outputId": "f9f6fa18-e6a8-4835-f156-a7bb2cfe3c2f"
      },
      "execution_count": null,
      "outputs": [
        {
          "output_type": "stream",
          "name": "stdout",
          "text": [
            "digite o valor de a: 5\n",
            "digite o valor de b: 6\n",
            "digite o valor de c: 7\n",
            "No\n"
          ]
        }
      ]
    },
    {
      "cell_type": "markdown",
      "metadata": {
        "id": "y_tsQq67C73t"
      },
      "source": [
        "4) Leia a próxima função e veja se consegue compreender o que ela faz (veja os exemplos no Capítulo 4). Então execute-a e veja se acertou."
      ]
    },
    {
      "cell_type": "code",
      "metadata": {
        "id": "p1LUrtA2C99E"
      },
      "source": [
        "def draw(t, length, n):\n",
        "    '''\n",
        "    t: turtle ou ColabTurtle\n",
        "    length: comprimento da linha\n",
        "    n: número de iterações. deve ser maior que zero.\n",
        "    '''\n",
        "    if n == 0:\n",
        "        return\n",
        "    angle = 50\n",
        "    t.forward(length * n)\n",
        "    t.left(angle)\n",
        "    draw(t, length, n-1)\n",
        "    t.right(2 * angle)\n",
        "    draw(t, length, n-1)\n",
        "    t.left(angle)\n",
        "    t.backward(length * n)"
      ],
      "execution_count": null,
      "outputs": []
    },
    {
      "cell_type": "markdown",
      "metadata": {
        "id": "WpeZVhIBElfQ"
      },
      "source": [
        "5) A curva de Koch é um fractal que parece com o da Figura abaixo.\n",
        "![](https://github.com/PenseAllen/PensePython2e/raw/master/fig/tnkp_0502.png)\n",
        "\n",
        "Para desenhar uma curva de Koch com o comprimento x, tudo o que você tem que fazer é:\n",
        "\n",
        "1. Desenhe uma curva de Koch com o comprimento x/3.\n",
        "\n",
        "1. Vire 60 graus à esquerda.\n",
        "\n",
        "1. Desenhe uma curva de Koch com o comprimento x/3.\n",
        "\n",
        "1. Vire 120 graus à direita.\n",
        "\n",
        "1. Desenhe uma curva de Koch com o comprimento x/3.\n",
        "\n",
        "1. Vire 60 graus à esquerda.\n",
        "\n",
        "1. Desenhe uma curva de Koch com o comprimento x/3.\n",
        "\n",
        "\n",
        "A exceção é se x for menor que 3: neste caso, você pode desenhar apenas uma linha reta com o comprimento x.\n",
        "\n",
        "1. Escreva uma função chamada `koch` que receba um `turtle` (usar [trinket](https://trinket.io/turtle)) e um comprimento como parâmetros, e use o `turtle` para desenhar uma curva de Koch com o comprimento dado.\n",
        "\n",
        "1. Escreva uma função chamada `snowflake` que desenhe três curvas de Koch para fazer o traçado de um floco de neve.\n",
        "\n",
        "1. A curva de Koch pode ser generalizada de vários modos. Veja exemplos em http://en.wikipedia.org/wiki/Koch_snowflake e implemente o seu favorito."
      ]
    }
  ]
}